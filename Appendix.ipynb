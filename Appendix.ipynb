{
  "nbformat": 4,
  "nbformat_minor": 0,
  "metadata": {
    "colab": {
      "name": "Appendix.ipynb",
      "provenance": [],
      "collapsed_sections": [],
      "toc_visible": true,
      "include_colab_link": true
    },
    "kernelspec": {
      "name": "python3",
      "display_name": "Python 3"
    }
  },
  "cells": [
    {
      "cell_type": "markdown",
      "metadata": {
        "id": "view-in-github",
        "colab_type": "text"
      },
      "source": [
        "<a href=\"https://colab.research.google.com/github/EricBojs/ME1316-Kompendium/blob/master/Appendix.ipynb\" target=\"_parent\"><img src=\"https://colab.research.google.com/assets/colab-badge.svg\" alt=\"Open In Colab\"/></a>"
      ]
    },
    {
      "cell_type": "markdown",
      "metadata": {
        "id": "LBBMYaHO64ml",
        "colab_type": "text"
      },
      "source": [
        "# Appendix\n"
      ]
    },
    {
      "cell_type": "markdown",
      "metadata": {
        "id": "ywzTmHPS67Uv",
        "colab_type": "text"
      },
      "source": [
        "## 1 Att använda Python-biblioteken"
      ]
    },
    {
      "cell_type": "code",
      "metadata": {
        "id": "jJctVIz_KHeA",
        "colab_type": "code",
        "colab": {
          "base_uri": "https://localhost:8080/",
          "height": 34
        },
        "outputId": "aa939de5-e34e-4de8-e018-c71888808a31"
      },
      "source": [
        "!pip install -q yfinance\n",
        "!pip install -q pandas\n",
        "!pip install -q matplotlib\n",
        "!pip install -q numpy"
      ],
      "execution_count": null,
      "outputs": [
        {
          "output_type": "stream",
          "text": [
            "  Building wheel for yfinance (setup.py) ... \u001b[?25l\u001b[?25hdone\n"
          ],
          "name": "stdout"
        }
      ]
    },
    {
      "cell_type": "markdown",
      "metadata": {
        "id": "GKnUPdPkDjQR",
        "colab_type": "text"
      },
      "source": [
        "### 1.1 Numpy\n",
        "\n",
        "Räkna matte är ju roligt. Python är vanligtvis ingen höjdare på matte, utan ofta kommer språk som *Matlab* och *R* och stjäl rampljuset. Som tur är det några som har tagit det roliga till Python och byggt biblioteket *Numpy* som underlättar vektorberäkningar och annat skoj."
      ]
    },
    {
      "cell_type": "code",
      "metadata": {
        "id": "Ms181tl5Dpwh",
        "colab_type": "code",
        "colab": {
          "base_uri": "https://localhost:8080/",
          "height": 52
        },
        "outputId": "0c54b66f-9c71-4673-b758-e3f91b55ebc5"
      },
      "source": [
        "import numpy as np\n",
        "X = np.arange(5,24,2) # skapar en vektor\n",
        "print(X)              # Skriv ut X\n",
        "print(type(X))        # Vilken datatyp är X?"
      ],
      "execution_count": null,
      "outputs": [
        {
          "output_type": "stream",
          "text": [
            "[ 5  7  9 11 13 15 17 19 21 23]\n",
            "<class 'numpy.ndarray'>\n"
          ],
          "name": "stdout"
        }
      ]
    },
    {
      "cell_type": "markdown",
      "metadata": {
        "id": "vpdnD6TjVDmo",
        "colab_type": "text"
      },
      "source": [
        "Även om `X` ser ut som en lista så är den av typen array!\n",
        "\n",
        "Med hjälp av funktioner från Numpy kan vi utföra räkneoperationer, både snabbt och enkelt. "
      ]
    },
    {
      "cell_type": "code",
      "metadata": {
        "id": "UI2i6NHjOg9Z",
        "colab_type": "code",
        "colab": {
          "base_uri": "https://localhost:8080/",
          "height": 70
        },
        "outputId": "7202602a-1d91-4539-bc93-2ac35d9ac360"
      },
      "source": [
        "Y = np.round(np.sqrt(X),1)  # elementvis sqrt, sedan avrunda till 1 decimal\n",
        "print(Y)\n",
        "print(\"Y Medelvärde:\", np.mean(Y))\n",
        "print(\"Y Standardavvikelse:\", np.std(Y))"
      ],
      "execution_count": null,
      "outputs": [
        {
          "output_type": "stream",
          "text": [
            "[2.2 2.6 3.  3.3 3.6 3.9 4.1 4.4 4.6 4.8]\n",
            "Y Medelvärde: 3.65\n",
            "Y Standardavvikelse: 0.8249242389456136\n"
          ],
          "name": "stdout"
        }
      ]
    },
    {
      "cell_type": "markdown",
      "metadata": {
        "id": "A-xaQ8Q6PJEy",
        "colab_type": "text"
      },
      "source": [
        "Vad som annars hade tagit en `for`-loop kan Numpy göra på en rad.\n",
        "\n",
        "Det går även bra att generera datamängder på mer avancerade vis. \n",
        "$$Z \\sim N(5,1)$$"
      ]
    },
    {
      "cell_type": "code",
      "metadata": {
        "id": "0Cf0kpLaOzD8",
        "colab_type": "code",
        "colab": {
          "base_uri": "https://localhost:8080/",
          "height": 52
        },
        "outputId": "cddcce01-fbcf-47b1-ad7e-d0eb245c27e1"
      },
      "source": [
        "Z = np.random.normal(5,1,size=10) # normalfördelad population med 10 element\n",
        "print(Z)"
      ],
      "execution_count": null,
      "outputs": [
        {
          "output_type": "stream",
          "text": [
            "[5.05086083 5.98636686 4.31010128 4.66605669 4.03035051 4.23183992\n",
            " 4.68948421 5.0036153  4.4581997  5.04198728]\n"
          ],
          "name": "stdout"
        }
      ]
    },
    {
      "cell_type": "markdown",
      "metadata": {
        "id": "6lv-heW1WcW7",
        "colab_type": "text"
      },
      "source": [
        "För vidare läsning om Numpy och alla dess dolda möjligheter rekommenderar vi:\n",
        "\n",
        "* [Stack Absure Numpy Intro](https://stackabuse.com/numpy-tutorial-a-simple-example-based-guide/)\n",
        "* *Diverse guider på Youtube...*"
      ]
    },
    {
      "cell_type": "markdown",
      "metadata": {
        "id": "3gHHUanN6-K9",
        "colab_type": "text"
      },
      "source": [
        "### 1.2 Pandas\n",
        "Python har inga förinstallerade verktyg för att kunna läsa in Excel-filer - men som tur kan vi förlita oss på tredjepartsverktyg som löser biffen! \n",
        "\n",
        "Pandas är ett bibliotek som ger en ny datatyp till python: DataFrame. När vi läser in `.csv`-filer så konverteras dessa till objekt av dataframe-typen som sedan kan hanteras i Python. Pandas använder sig av Numpy för att hålla ordning på data i kolumner och rader, så det är väldigt behändigt att nyttja funktioner från det ena och använda hos det andra.\n"
      ]
    },
    {
      "cell_type": "markdown",
      "metadata": {
        "id": "Q2SuLuf_M8fc",
        "colab_type": "text"
      },
      "source": [
        "Vi hämtar hem `Ericsson aktie`-data m.h.a yfinance-biblioteket."
      ]
    },
    {
      "cell_type": "code",
      "metadata": {
        "id": "MVjL2E8liWjJ",
        "colab_type": "code",
        "colab": {
          "base_uri": "https://localhost:8080/",
          "height": 245
        },
        "outputId": "c70639ed-772b-497b-de59-88cf67ba6887"
      },
      "source": [
        "import pandas as pd\n",
        "import yfinance as yf\n",
        "ericsson_df = yf.download('ERIC','2020-01-01','2020-07-01') #Ericsson-aktiedata\n",
        "ericsson_df.head()"
      ],
      "execution_count": null,
      "outputs": [
        {
          "output_type": "stream",
          "text": [
            "\r[*********************100%***********************]  1 of 1 completed\n"
          ],
          "name": "stdout"
        },
        {
          "output_type": "execute_result",
          "data": {
            "text/html": [
              "<div>\n",
              "<style scoped>\n",
              "    .dataframe tbody tr th:only-of-type {\n",
              "        vertical-align: middle;\n",
              "    }\n",
              "\n",
              "    .dataframe tbody tr th {\n",
              "        vertical-align: top;\n",
              "    }\n",
              "\n",
              "    .dataframe thead th {\n",
              "        text-align: right;\n",
              "    }\n",
              "</style>\n",
              "<table border=\"1\" class=\"dataframe\">\n",
              "  <thead>\n",
              "    <tr style=\"text-align: right;\">\n",
              "      <th></th>\n",
              "      <th>Open</th>\n",
              "      <th>High</th>\n",
              "      <th>Low</th>\n",
              "      <th>Close</th>\n",
              "      <th>Adj Close</th>\n",
              "      <th>Volume</th>\n",
              "    </tr>\n",
              "    <tr>\n",
              "      <th>Date</th>\n",
              "      <th></th>\n",
              "      <th></th>\n",
              "      <th></th>\n",
              "      <th></th>\n",
              "      <th></th>\n",
              "      <th></th>\n",
              "    </tr>\n",
              "  </thead>\n",
              "  <tbody>\n",
              "    <tr>\n",
              "      <th>2020-01-02</th>\n",
              "      <td>8.96</td>\n",
              "      <td>9.03</td>\n",
              "      <td>8.94</td>\n",
              "      <td>9.01</td>\n",
              "      <td>8.923130</td>\n",
              "      <td>5368000</td>\n",
              "    </tr>\n",
              "    <tr>\n",
              "      <th>2020-01-03</th>\n",
              "      <td>8.83</td>\n",
              "      <td>8.89</td>\n",
              "      <td>8.79</td>\n",
              "      <td>8.85</td>\n",
              "      <td>8.764673</td>\n",
              "      <td>6355200</td>\n",
              "    </tr>\n",
              "    <tr>\n",
              "      <th>2020-01-06</th>\n",
              "      <td>8.80</td>\n",
              "      <td>8.95</td>\n",
              "      <td>8.78</td>\n",
              "      <td>8.91</td>\n",
              "      <td>8.824094</td>\n",
              "      <td>3953500</td>\n",
              "    </tr>\n",
              "    <tr>\n",
              "      <th>2020-01-07</th>\n",
              "      <td>8.83</td>\n",
              "      <td>8.87</td>\n",
              "      <td>8.80</td>\n",
              "      <td>8.82</td>\n",
              "      <td>8.734962</td>\n",
              "      <td>4259900</td>\n",
              "    </tr>\n",
              "    <tr>\n",
              "      <th>2020-01-08</th>\n",
              "      <td>8.83</td>\n",
              "      <td>8.96</td>\n",
              "      <td>8.82</td>\n",
              "      <td>8.90</td>\n",
              "      <td>8.814190</td>\n",
              "      <td>4294600</td>\n",
              "    </tr>\n",
              "  </tbody>\n",
              "</table>\n",
              "</div>"
            ],
            "text/plain": [
              "            Open  High   Low  Close  Adj Close   Volume\n",
              "Date                                                   \n",
              "2020-01-02  8.96  9.03  8.94   9.01   8.923130  5368000\n",
              "2020-01-03  8.83  8.89  8.79   8.85   8.764673  6355200\n",
              "2020-01-06  8.80  8.95  8.78   8.91   8.824094  3953500\n",
              "2020-01-07  8.83  8.87  8.80   8.82   8.734962  4259900\n",
              "2020-01-08  8.83  8.96  8.82   8.90   8.814190  4294600"
            ]
          },
          "metadata": {
            "tags": []
          },
          "execution_count": 5
        }
      ]
    },
    {
      "cell_type": "markdown",
      "metadata": {
        "id": "mqNP2SUdNEXb",
        "colab_type": "text"
      },
      "source": [
        "`Ericsson_df `är en Pandas-dataframe som är indexerad efter datum.\n",
        "\n",
        "`.head()` är en metod som gör att bara de fem första raderna i dataframen skrivs ut. "
      ]
    },
    {
      "cell_type": "code",
      "metadata": {
        "id": "VUEY1_4AK2CY",
        "colab_type": "code",
        "colab": {
          "base_uri": "https://localhost:8080/",
          "height": 141
        },
        "outputId": "5f13a644-491d-41dd-b52c-203b2f8a32d0"
      },
      "source": [
        "ericsson_df['Open'].head() # välj kolumn 'Open', titta på .head()"
      ],
      "execution_count": null,
      "outputs": [
        {
          "output_type": "execute_result",
          "data": {
            "text/plain": [
              "Date\n",
              "2020-01-02    8.96\n",
              "2020-01-03    8.83\n",
              "2020-01-06    8.80\n",
              "2020-01-07    8.83\n",
              "2020-01-08    8.83\n",
              "Name: Open, dtype: float64"
            ]
          },
          "metadata": {
            "tags": []
          },
          "execution_count": 6
        }
      ]
    },
    {
      "cell_type": "markdown",
      "metadata": {
        "id": "KAbBIyFTZRtU",
        "colab_type": "text"
      },
      "source": [
        "Vi kan även filtrera våran `dataframe`."
      ]
    },
    {
      "cell_type": "code",
      "metadata": {
        "id": "ElwWbpbHK_LR",
        "colab_type": "code",
        "colab": {
          "base_uri": "https://localhost:8080/",
          "height": 167
        },
        "outputId": "07e3d948-cbf7-40ee-c7ac-46185d484df8"
      },
      "source": [
        "ericsson_df[ericsson_df['Open']>9.5] # välj de rader i df där 'open' är större än 9.5"
      ],
      "execution_count": null,
      "outputs": [
        {
          "output_type": "execute_result",
          "data": {
            "text/html": [
              "<div>\n",
              "<style scoped>\n",
              "    .dataframe tbody tr th:only-of-type {\n",
              "        vertical-align: middle;\n",
              "    }\n",
              "\n",
              "    .dataframe tbody tr th {\n",
              "        vertical-align: top;\n",
              "    }\n",
              "\n",
              "    .dataframe thead th {\n",
              "        text-align: right;\n",
              "    }\n",
              "</style>\n",
              "<table border=\"1\" class=\"dataframe\">\n",
              "  <thead>\n",
              "    <tr style=\"text-align: right;\">\n",
              "      <th></th>\n",
              "      <th>Open</th>\n",
              "      <th>High</th>\n",
              "      <th>Low</th>\n",
              "      <th>Close</th>\n",
              "      <th>Adj Close</th>\n",
              "      <th>Volume</th>\n",
              "    </tr>\n",
              "    <tr>\n",
              "      <th>Date</th>\n",
              "      <th></th>\n",
              "      <th></th>\n",
              "      <th></th>\n",
              "      <th></th>\n",
              "      <th></th>\n",
              "      <th></th>\n",
              "    </tr>\n",
              "  </thead>\n",
              "  <tbody>\n",
              "    <tr>\n",
              "      <th>2020-06-03</th>\n",
              "      <td>9.57</td>\n",
              "      <td>9.88</td>\n",
              "      <td>9.57</td>\n",
              "      <td>9.84</td>\n",
              "      <td>9.84</td>\n",
              "      <td>19572200</td>\n",
              "    </tr>\n",
              "    <tr>\n",
              "      <th>2020-06-04</th>\n",
              "      <td>9.65</td>\n",
              "      <td>9.77</td>\n",
              "      <td>9.64</td>\n",
              "      <td>9.67</td>\n",
              "      <td>9.67</td>\n",
              "      <td>12431900</td>\n",
              "    </tr>\n",
              "    <tr>\n",
              "      <th>2020-06-05</th>\n",
              "      <td>9.64</td>\n",
              "      <td>9.73</td>\n",
              "      <td>9.59</td>\n",
              "      <td>9.62</td>\n",
              "      <td>9.62</td>\n",
              "      <td>8579100</td>\n",
              "    </tr>\n",
              "  </tbody>\n",
              "</table>\n",
              "</div>"
            ],
            "text/plain": [
              "            Open  High   Low  Close  Adj Close    Volume\n",
              "Date                                                    \n",
              "2020-06-03  9.57  9.88  9.57   9.84       9.84  19572200\n",
              "2020-06-04  9.65  9.77  9.64   9.67       9.67  12431900\n",
              "2020-06-05  9.64  9.73  9.59   9.62       9.62   8579100"
            ]
          },
          "metadata": {
            "tags": []
          },
          "execution_count": 7
        }
      ]
    },
    {
      "cell_type": "code",
      "metadata": {
        "id": "WXcBrM6oLka5",
        "colab_type": "code",
        "colab": {
          "base_uri": "https://localhost:8080/",
          "height": 227
        },
        "outputId": "a096ab73-32ab-4a7e-deed-1240687784a6"
      },
      "source": [
        "# Skapa en ny kolumn som heter Medel = (high+low)/2\n",
        "ericsson_df['Medel'] = 1/2*(ericsson_df['High'] + ericsson_df['Low'])\n",
        "ericsson_df.head()"
      ],
      "execution_count": null,
      "outputs": [
        {
          "output_type": "execute_result",
          "data": {
            "text/html": [
              "<div>\n",
              "<style scoped>\n",
              "    .dataframe tbody tr th:only-of-type {\n",
              "        vertical-align: middle;\n",
              "    }\n",
              "\n",
              "    .dataframe tbody tr th {\n",
              "        vertical-align: top;\n",
              "    }\n",
              "\n",
              "    .dataframe thead th {\n",
              "        text-align: right;\n",
              "    }\n",
              "</style>\n",
              "<table border=\"1\" class=\"dataframe\">\n",
              "  <thead>\n",
              "    <tr style=\"text-align: right;\">\n",
              "      <th></th>\n",
              "      <th>Open</th>\n",
              "      <th>High</th>\n",
              "      <th>Low</th>\n",
              "      <th>Close</th>\n",
              "      <th>Adj Close</th>\n",
              "      <th>Volume</th>\n",
              "      <th>Medel</th>\n",
              "    </tr>\n",
              "    <tr>\n",
              "      <th>Date</th>\n",
              "      <th></th>\n",
              "      <th></th>\n",
              "      <th></th>\n",
              "      <th></th>\n",
              "      <th></th>\n",
              "      <th></th>\n",
              "      <th></th>\n",
              "    </tr>\n",
              "  </thead>\n",
              "  <tbody>\n",
              "    <tr>\n",
              "      <th>2020-01-02</th>\n",
              "      <td>8.96</td>\n",
              "      <td>9.03</td>\n",
              "      <td>8.94</td>\n",
              "      <td>9.01</td>\n",
              "      <td>8.923130</td>\n",
              "      <td>5368000</td>\n",
              "      <td>8.985</td>\n",
              "    </tr>\n",
              "    <tr>\n",
              "      <th>2020-01-03</th>\n",
              "      <td>8.83</td>\n",
              "      <td>8.89</td>\n",
              "      <td>8.79</td>\n",
              "      <td>8.85</td>\n",
              "      <td>8.764673</td>\n",
              "      <td>6355200</td>\n",
              "      <td>8.840</td>\n",
              "    </tr>\n",
              "    <tr>\n",
              "      <th>2020-01-06</th>\n",
              "      <td>8.80</td>\n",
              "      <td>8.95</td>\n",
              "      <td>8.78</td>\n",
              "      <td>8.91</td>\n",
              "      <td>8.824094</td>\n",
              "      <td>3953500</td>\n",
              "      <td>8.865</td>\n",
              "    </tr>\n",
              "    <tr>\n",
              "      <th>2020-01-07</th>\n",
              "      <td>8.83</td>\n",
              "      <td>8.87</td>\n",
              "      <td>8.80</td>\n",
              "      <td>8.82</td>\n",
              "      <td>8.734962</td>\n",
              "      <td>4259900</td>\n",
              "      <td>8.835</td>\n",
              "    </tr>\n",
              "    <tr>\n",
              "      <th>2020-01-08</th>\n",
              "      <td>8.83</td>\n",
              "      <td>8.96</td>\n",
              "      <td>8.82</td>\n",
              "      <td>8.90</td>\n",
              "      <td>8.814190</td>\n",
              "      <td>4294600</td>\n",
              "      <td>8.890</td>\n",
              "    </tr>\n",
              "  </tbody>\n",
              "</table>\n",
              "</div>"
            ],
            "text/plain": [
              "            Open  High   Low  Close  Adj Close   Volume  Medel\n",
              "Date                                                          \n",
              "2020-01-02  8.96  9.03  8.94   9.01   8.923130  5368000  8.985\n",
              "2020-01-03  8.83  8.89  8.79   8.85   8.764673  6355200  8.840\n",
              "2020-01-06  8.80  8.95  8.78   8.91   8.824094  3953500  8.865\n",
              "2020-01-07  8.83  8.87  8.80   8.82   8.734962  4259900  8.835\n",
              "2020-01-08  8.83  8.96  8.82   8.90   8.814190  4294600  8.890"
            ]
          },
          "metadata": {
            "tags": []
          },
          "execution_count": 8
        }
      ]
    },
    {
      "cell_type": "markdown",
      "metadata": {
        "id": "zzwZLT64NcdI",
        "colab_type": "text"
      },
      "source": [
        "Vi kan göra mer komplexa beräknar mellan raderna. Exempel kolla den procentuella skillnadner i `Medel` över tid."
      ]
    },
    {
      "cell_type": "code",
      "metadata": {
        "id": "omlh5FBbMDQW",
        "colab_type": "code",
        "colab": {
          "base_uri": "https://localhost:8080/",
          "height": 141
        },
        "outputId": "be7f7ace-d030-40ae-c068-6505a03c21a7"
      },
      "source": [
        "ericsson_df['pct_change'] = ericsson_df['Medel'].pct_change()\n",
        "ericsson_df['pct_change'].head()"
      ],
      "execution_count": null,
      "outputs": [
        {
          "output_type": "execute_result",
          "data": {
            "text/plain": [
              "Date\n",
              "2020-01-02         NaN\n",
              "2020-01-03   -0.016138\n",
              "2020-01-06    0.002828\n",
              "2020-01-07   -0.003384\n",
              "2020-01-08    0.006225\n",
              "Name: pct_change, dtype: float64"
            ]
          },
          "metadata": {
            "tags": []
          },
          "execution_count": 9
        }
      ]
    },
    {
      "cell_type": "markdown",
      "metadata": {
        "id": "h-ONZ5uzNui9",
        "colab_type": "text"
      },
      "source": [
        "Nämnen! Se att Pandas ansätter odefinierade siffror till `NaN`. Det är inte så konstigt då det inte finns någon tidigare dag att kolla den procentuella förändringen på.\n",
        "\n",
        "`NaN` kan dock orsaka problem om vi beräknar medelvärden och liknande. Som tur går de att filtrera bort med metoden `.dropna()`."
      ]
    },
    {
      "cell_type": "code",
      "metadata": {
        "id": "QgOHs3RyMNPh",
        "colab_type": "code",
        "colab": {
          "base_uri": "https://localhost:8080/",
          "height": 141
        },
        "outputId": "31fd06d5-bd3c-42f0-e7da-dd9a0f9dfa58"
      },
      "source": [
        "ericsson_df['pct_change'].dropna().head()"
      ],
      "execution_count": null,
      "outputs": [
        {
          "output_type": "execute_result",
          "data": {
            "text/plain": [
              "Date\n",
              "2020-01-03   -0.016138\n",
              "2020-01-06    0.002828\n",
              "2020-01-07   -0.003384\n",
              "2020-01-08    0.006225\n",
              "2020-01-09    0.002250\n",
              "Name: pct_change, dtype: float64"
            ]
          },
          "metadata": {
            "tags": []
          },
          "execution_count": 10
        }
      ]
    },
    {
      "cell_type": "markdown",
      "metadata": {
        "id": "VkiMeh6_Z9O3",
        "colab_type": "text"
      },
      "source": [
        "För vidare läsning hänvisar vi till:\n",
        "* [10 minutes to pandas](https://pandas.pydata.org/pandas-docs/stable/getting_started/10min.html)\n",
        "* [Kaggle's Guide to Pandas](https://www.kaggle.com/learn/pandas)\n",
        "* [Stack Overflow för Pandas](https://stackoverflow.com/questions/tagged/pandas)\n"
      ]
    },
    {
      "cell_type": "markdown",
      "metadata": {
        "id": "6uPYZnHBDlwG",
        "colab_type": "text"
      },
      "source": [
        "### 1.3 Matplotlib\n",
        "\n",
        "Matplotlib är varken det bästa, det enklaste, eller det snyggaste biblioteket för att visualisera data i Python. Men det går enkelt att plotta data med bara någon rad kod, och man har väldigt mycket frihet! Dessutom fungerar det likt Matlabs plottningsfunktioner vilket gör det väldigt lättlärt för dig som har arbetat med det språket innan."
      ]
    },
    {
      "cell_type": "code",
      "metadata": {
        "id": "t7sk_rkb6zO9",
        "colab_type": "code",
        "colab": {
          "base_uri": "https://localhost:8080/",
          "height": 264
        },
        "outputId": "0ab10a22-f0b3-4a8c-db9c-f9bf00f72492"
      },
      "source": [
        "import matplotlib.pyplot as plt\n",
        "\n",
        "X = np.arange(1,11) # en nump\n",
        "Y = np.random.normal(0,1,size=10)\n",
        "plt.plot(X,Y)\n",
        "plt.show() # visar plotten! obs, detta rensar .plt"
      ],
      "execution_count": null,
      "outputs": [
        {
          "output_type": "display_data",
          "data": {
            "image/png": "[encoded data removed]",
            "text/plain": [
              "<Figure size 432x288 with 1 Axes>"
            ]
          },
          "metadata": {
            "tags": [],
            "needs_background": "light"
          }
        }
      ]
    },
    {
      "cell_type": "markdown",
      "metadata": {
        "id": "lY5FzcdScgNE",
        "colab_type": "text"
      },
      "source": [
        "*Mm, inte jättesnyggt kanske.* Men vi enkelt förbättra plotten!"
      ]
    },
    {
      "cell_type": "code",
      "metadata": {
        "id": "ox4_0QqTcfno",
        "colab_type": "code",
        "colab": {
          "base_uri": "https://localhost:8080/",
          "height": 295
        },
        "outputId": "418a6881-8eae-4ea3-8ff9-5b6d0f8f0fbd"
      },
      "source": [
        "plt.style.use('bmh') # byter tema\n",
        "plt.plot(X,Y)\n",
        "plt.xlabel(\"X-axel\")\n",
        "plt.ylabel(\"Y-axel\")\n",
        "plt.legend(['Array Y']) \n",
        "plt.title(\"Plot för X vs Y\")\n",
        "plt.show()"
      ],
      "execution_count": null,
      "outputs": [
        {
          "output_type": "display_data",
          "data": {
            "image/png": "[encoded data removed]",
            "text/plain": [
              "<Figure size 432x288 with 1 Axes>"
            ]
          },
          "metadata": {
            "tags": [],
            "needs_background": "light"
          }
        }
      ]
    },
    {
      "cell_type": "markdown",
      "metadata": {
        "id": "HLgkXQk4e4zK",
        "colab_type": "text"
      },
      "source": [
        "Matplotlib erbjuder hög flexibilitet för att rita grafer, men tyvärr går det och blir komplext väldigt fort för att få dessa möjligheter. *Men men*, biblioteket är väldigt användbart och eftersom många andra bibliotek för att visualisera data i Python är byggda från Matplotlib blir det ett måste. \n",
        "\n",
        "Det är väldigt viktigt att veta att Matplotlib har två sätt att rita diagram, antingen via `.plt` eller någonting som heter `.fig` & `.ax`. Väldigt viktigt att känna till då många guider på internet använder det ena och vissa det andra sättet för att rita sina diagram. Detta utan att nämna att det finns två olika metoder, vilket blir förvirrande för en nybörjare.\n",
        "\n",
        "Vi rekommenderar följande källa för att få ett grepp om hur Matplotlib fungerar:\n",
        "\n",
        "* [Giles McMullen-Klein guide till Matplotlib](https://www.youtube.com/watch?v=6rKe2IEIu8c)\n"
      ]
    },
    {
      "cell_type": "markdown",
      "metadata": {
        "id": "cdWoGFrV9VdQ",
        "colab_type": "text"
      },
      "source": [
        "## 2 Terminologi\n",
        "\n",
        "**European Call Option** - (sv: *Europeisk köpoption*) Ett derivat som ger rättigheten att köpa en aktie för ett förutbestämt pris vid ett bestämt datum.\n",
        "\n",
        "**Hedging** - Gardera sig mot ogynnsamma pris/kursutveckling genom att göra olika investeringar som helt eller delvis tar ut varandra vid vinst eller förlust.\n",
        "\n",
        "**Arbritage** - En process där tillgångar säljs och köps för en riskfri vinst. \n",
        "\n",
        "**Kognitivt bias** - Snedvridningeffekt i hjärning som får oss att tänka irrationellt.\n",
        "\n",
        "**Bekräftelsebias** - Kognitiv snedvridning som gör att vi noterar det som bekräftar det  vi redan tror på och bortser från det som talar emot det vi tror på.\n",
        "\n",
        "**Volatilitet** - Ett mått på fluktuation hos en kurs. Ibland sedd som kortsiktigt risk.\n",
        "\n",
        "**Derivat** - Ett finansiellt instrument vars värde beror på en underliggande tillgången\n",
        "\n",
        "**Strike price** - Det förutbestämda priset för en tillgång i en option.\n",
        "\n",
        "**Time to maturity**  - Tiden till slutdatum för en option.\n",
        "\n",
        "**Riskneutral** - Att vikta vinster och förlust jämt. Människor är inte riskneutrala då vi värderar förluster mycket högre än vinst.\n",
        "\n",
        "**Log-normalfördelning** - En statistisk fördelning som vi modellerar aktiepriset efter. $X \\sim LN(\\mu, \\sigma) \\Leftrightarrow \\ln X \\sim N(\\mu,\\sigma)$.  \n",
        "\n",
        "**Validitet** - *se föreläsningsanteckningar ME1316.*\n",
        "\n",
        "**Reliabilitet** - *se föreläsningsanteckningar ME1316.*\n",
        "\n",
        "**Urvalsbias** - När informationen vi studerar inte är representativt för informationen som helhet. \n",
        "\n",
        "**Stickprov** - Ett mindre urval data ur ett stort dataset .\n"
      ]
    },
    {
      "cell_type": "markdown",
      "metadata": {
        "id": "qE2m9HTxQBZ2",
        "colab_type": "text"
      },
      "source": [
        "## 3 \"Svar\" till reflektionsfrågor\n",
        "\n",
        "Se inte följande text som det absoluta, och entydiga, svaret till reflektionsfrågorna i kompendiet. Se det som exempel på tankegångar man skulle kunna ha när man svarar på frågorna. \n",
        "\n",
        "### Kapitel 2\n",
        " \n",
        "1. Hur påverkar aktörers kognitiva bias marknaden och efficient market theoreom? \n",
        " \n",
        "*Kognitiv bias gör att en investerare inte tar helt rationella beslut trots att all information är tillgänglig. Den kognitiva bias som uppstår är förenligt med teori så till vida grad att den enskilda investeraren inte kommer att slå marknaden men oförenlig på det sättet att det då uppstår förtjänster/arbritagemöjligheter för andra investerare.*\n",
        " \n",
        "2. Om nu market efficient hypothesis stämmer och att aktier styrs helt av slump och följer matematiken, varför har man då inte enbart automatiserade algoritmer som handlar?\n",
        " \n",
        "*Automatiserade algoritmer kan endast ta hänsyn till information vi låter dem tillgå, mycket kvalitativ information om omständigheter kan vara svår att kodifiera.*\n",
        "\n",
        "3. Vilka begränsningar kan du se med Black scholes-modellen? \n",
        "\n",
        "*Modellen är känslig för \"tail-risk\" och extremt slumpmässiga händelser. Den tar inte hänsyn till utdelningar eller transaktionskostnader. Modellen utgår ifrån en helt riskfri ränta, att volatiliten är konstant och att handeln av tillgångar sker i kontinurlig tid. Dessa 3 antaganden modellerar inte verkligheten till punkt och pricka*. \n",
        "\n",
        "### Kapitel 3\n",
        " \n",
        "1. Hur långt i tiden bör vår historiska data gå tillbaka? Är den beroende på vår prognotiserade tidshorisont?\n",
        " \n",
        "*... lagom? Går man inte tillräckligt långt tillbaka i tiden riskerar man att ha för få datapunkter. Går man för långt kan volatiliten ha ändrats av annat.*En bra tumregel är att ta med så mycket data som man ska prognostisera på. Med andra ord, om vi ska försöka uppskatta vad volatiliteten är om 2 år så ska historisk data på 2 år användas. Detta med anledning av att fånga in eventuella  “systematiska” komponenter.*\n",
        " \n",
        "2. Vilken säsongsvariation kan finnas i vår data?\n",
        " \n",
        "*Volatiliteten kan ändras när ny information släpps och eftersom företagens rapporter vanligtvis publiceras års- och kvartalsvis är det möjligt att volatiliteten ändras kring dessa punkter.*\n",
        " \n",
        "3. Nu tittar vi på *metric data*, vilken typ av *non-metric data* kan man plocka in?\n",
        " \n",
        "*Man kan söka upp mer information som kan ge mer insikt i datan. Har den underliggande aktien publicerat en kvartalsrapporten som vi bör ta hänsyn till?*\n",
        " \n",
        "4. Bör vi ta med extrema och avvikande datapunkter i vår skattning? varför/varför inte?\n",
        "\n",
        "*Extrema datapunker kan säga något om framtiden eftersom black swan-event, som coronapandemin, bidrar till den osäkerheten om framtiden och vad den väntar. Ett rimligt antagande är därför att volatiliten kommer att vara hög.*\n",
        "\n",
        "5. Bör vi bearbeta datan för att få fram en bättre skattning på $\\sigma$?\n",
        "\n",
        "*Ja, det behöver vi. Våra modeller är inte bättre än datan som vi stoppar in i dem. Glöm inte; skit in, skit ut.*\n",
        " \n",
        "6. Vilken bias kommer det få på vårt punktsattning $\\hat{\\sigma}$?\n",
        " \n",
        "*Se 3.2.3 Modellering av bias.*\n",
        "\n",
        "7. Kan du tänka dig en bättre modell av $\\hat{\\sigma}$?\n",
        "\n",
        "*Mer allmän kan man se $\\hat{\\sigma}$ som en okänd funktion $f$ som är beroende på $\\text{bias}$ och $\\text{slump}$. Men detta gör det svårare att se $E[f(\\sigma, \\text{bias},\\text{slump})]$.*\n",
        " \n",
        "8. Varför tror du $\\hat{\\sigma}_{imp}<\\hat{\\sigma}_{hist}$? Gäller det alltid?\n",
        "\n",
        "*Pågrund av det “säkerhetslager” som bankerna lägger på priset för optionen. Nej, om marknaden tror på en mer stabil kurs framöver där den historiska kursen har varit hög så gäller inte sambandet*\n",
        " \n",
        "9. Hur kan vi bestämma ett konfidensintervall på $\\hat{\\sigma}_{imp}$?\n",
        " \n",
        "*Ofta finns det information om var aktörer har placerat bud på optionen, men inte hittar någon köpare. Dessa kan bli gränser för intervallet.*\n",
        " \n",
        "10. Varför behövs en kvantitativ analys av $\\hat{\\sigma}$ när vi kan ta den implicerade volatiliteten rakt av? \n",
        "\n",
        "*Den kvantitativa analysen behövs för att kunna se om historien kan säga något om framtiden.*\n",
        "\n",
        "### Kapitel 4\n",
        " \n",
        "1. Vilka antaganden bygger dessa modeller på?\n",
        " \n",
        "*Att historien säger någonting om framtiden, och att den närmaste tiden har större betydelse.*\n",
        " \n",
        "2. Hur hanterar man det prognosfel som uppstår? \n",
        " \n",
        "*Med en säkerhetsmarginal (konfidensintervall) och alltid utvärdera våra prognosverktyg.*\n",
        " \n",
        "3. Finns det omständigheter när den viktade modellen är att föredra framför den statiska och vice versa? \n",
        "\n",
        "*Med en löptid som är kort så bör man använda en viktad modell för bättre precision.  En prognos på en längre tidshorisont, där mönstret i datan ser någorlunda konstant ut och med en data som följer en statistisk fördelning så fungerar den statiska bra.*"
      ]
    }
  ]
}