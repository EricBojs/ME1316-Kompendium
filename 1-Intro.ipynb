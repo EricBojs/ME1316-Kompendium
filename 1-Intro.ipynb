{
  "nbformat": 4,
  "nbformat_minor": 0,
  "metadata": {
    "colab": {
      "name": "1. Intro.ipynb",
      "provenance": [],
      "collapsed_sections": [],
      "toc_visible": true,
      "include_colab_link": true
    },
    "kernelspec": {
      "name": "python3",
      "display_name": "Python 3"
    }
  },
  "cells": [
    {
      "cell_type": "markdown",
      "metadata": {
        "id": "view-in-github",
        "colab_type": "text"
      },
      "source": [
        "<a href=\"https://colab.research.google.com/github/EricBojs/ME1316-Kompendium/blob/master/Intro.ipynb\" target=\"_parent\"><img src=\"https://colab.research.google.com/assets/colab-badge.svg\" alt=\"Open In Colab\"/></a>"
      ]
    },
    {
      "cell_type": "markdown",
      "metadata": {
        "id": "a7K1ZT_fZd9v",
        "colab_type": "text"
      },
      "source": [
        "# 1 Intro\n",
        "\n",
        "*Okej, pysen*. Är tentaplugg lite för trist? Har du just avslutat ett filmmaraton av *The Big Short* & *Wolf of Wallstreet* och vill bli nästa Gordon Gekko? Du har ju läst introkurser i ekonomi, och besitter fler avklarade högskolepoäng i matematik än släpandes… Och med en programmeringskurs i bakfickan så måste man ju fråga sig: Varför skulle någon som du _inte_ klara av skapa den där algoritmen som hovar in storkovan på aktiemarknaden? \n",
        "\n",
        "Nå, vare sig det är sant eller inte så kan det vara intressant att börja titta på hur något sådant skulle kunna se ut. Detta kompendium kommer gå igenom hur man kan modellera en aktiekurs, hämta hem data och börja prediktera priset på en typ av finansiell produkt som köps och säljs på marknaden. Lyckas du prediktera priset bättre än marknaden så borde det gå att bli nästa Michael Burry. \n",
        "\n",
        "Vi ska inte lova för mycket. Men vi vill säga att det som presenteras i detta kompendium är sant, även om inte hela historien alltid berättas. Vi kommer ta en titt på Black-Scholes-modellen och använda den för att skatta priset på _European Call Option_ (sv: Europeiska köpoptioner). Detta har möjligtgjorts av lärdomar från SF1918 Sannolikhetsteori och statistik!"
      ]
    },
    {
      "cell_type": "markdown",
      "metadata": {
        "id": "fopE05bIdKUn",
        "colab_type": "text"
      },
      "source": [
        "## 1.1 Syftet med kompendiumet \n",
        "\n",
        "Detta kompendium ska vara ett praktiskt exempel på hur man kan använda en teoretisk modell till att få ut ett resultat med hjälp av verklig data. Vi hoppas att  läsaren lär sig begrepp från både finansiella världen samt matematisk sannolikhetsteori. I sig kan kompendiet stå på egna ben, men är skriven för `ME1316 Kvantitativ affärs- och verksamhetsanalys 6.0hp` på Kungliga tekniska högskolan. Kompendiet kan ses som kuriosa för studenter som vill se...\n",
        "\n",
        "1. Praktisk användning av sannolikhetsteori och statistik \n",
        "2. Reflekterande över kvantitativa analyser\n",
        "3. Programmera med data.\n",
        "\n",
        "Vi ska dock inte dölja det annars latenta syfte: att underlätta i-studenter som går matteinriktningen inför de kurser som väntar.\n"
      ]
    },
    {
      "cell_type": "markdown",
      "metadata": {
        "id": "KYeEM4vhdQUA",
        "colab_type": "text"
      },
      "source": [
        "## 1.2 Hur man läser Kompendiet\n",
        "\n",
        "Visst är det intressant att läsa om *hur* man ska läsa det man *redan* läser? Väldigt meta. Eftersom Kompendiet riktar sig till en bredare skara så finns det delar som är mer och mindre intressanta för dig som läsare.\n",
        "\n",
        "Det finns delar som rör sannolikhetsteori och finansiell matematik, dessa är markerade med ett dollar-tecken, $, i titeln. Dessa delar går att hoppa över utan att tappa någon större förståelse över det som sker senare. Istället finns de där för dig som vill få en kort introduktion till hur vi kan modellera ting matematiskt.\n",
        "\n",
        "Det har säkert inte undgått dig att lägga märke till att det gömmer sig kod mellan kapitel. Koden är skriven i Python och visar hur vi kan jobba med *big data* utanför en Excel-miljö som vi annars känner oss hemma i. Man kan, likväl som matematiken, hoppa över alla kodstycken utan att det gör något, men det är möjligt att se hur man i praktiken kan arbeta med att analysera data i Python."
      ]
    },
    {
      "cell_type": "markdown",
      "metadata": {
        "id": "RRr_kZWvw524",
        "colab_type": "text"
      },
      "source": [
        "## 1.3 Att köra koden\n",
        "\n",
        "Kompendiet är skrivet i vad som kallas Notebook-format för programmering. Detta gör att du kan både läsa kompendie-texten och köra koden i samma miljö. Och du kan experimentera genom att redigera koden hit-eller-dit och hipp-som-happ! \n",
        "\n",
        "Om du vill köra koden rekommenderar vi att du öppnar kompendiet i Google CoLab. Men vill du ha en svårare, men mer lärorik, upplevelse rekommenderar vi [Jupyter Notebook](https://jupyter.org/). *Superduperbra* att lära sig för framtida stora kodprojekt med datahantering. *Host  **KEX:et** host host*"
      ]
    },
    {
      "cell_type": "code",
      "metadata": {
        "id": "siM7uB4dibaO",
        "colab_type": "code",
        "colab": {
          "base_uri": "https://localhost:8080/",
          "height": 34
        },
        "outputId": "e6a729a1-b477-4d93-b1e3-5e41d6d1693f"
      },
      "source": [
        "# Såhär kan kod se ut!\n",
        "print(\"Wow, vad häftigt med kod\")"
      ],
      "execution_count": null,
      "outputs": [
        {
          "output_type": "stream",
          "text": [
            "Wow, vad häftigt med kod\n"
          ],
          "name": "stdout"
        }
      ]
    },
    {
      "cell_type": "markdown",
      "metadata": {
        "id": "qZ4343z4BE23",
        "colab_type": "text"
      },
      "source": [
        "För att få en kort introduktion till de bibliotek vi använder oss av i Kompendiet kan bläddra (eller klicka) sig till Appendix 1. "
      ]
    },
    {
      "cell_type": "markdown",
      "metadata": {
        "id": "phvBT6thiuSg",
        "colab_type": "text"
      },
      "source": [
        "## 1.4 Förbehåll\n",
        "\n",
        "Ibland går det fel! Upptäcker du klumpiga formulering, felstavningar eller matematik som du anser är fel, så är det *mycket möjligt* att så är fallet. Detta är ett första utkast till ett kompendium som vi hoppas kan utvecklas med åren som går och att framtida indek-studenter kan fortsätta skriva och utveckla kompendiet i enlighet med hur kurserna på programmet utvecklas med åren som går."
      ]
    },
    {
      "cell_type": "markdown",
      "metadata": {
        "id": "0_LfEWHvjxLW",
        "colab_type": "text"
      },
      "source": [
        "## 1.5 Matematisk förbehåll $\n",
        "\n",
        "_Och juste_, matematiken är skriven för att läsaren ska få en intiutiv förståelse med enkla exempel. Detta gör att mycket av teorin allmängiltighet förvanskas. Men syftet med det är kompendiet är inte att göra en rigorös härledning med alla viktiga definitioner som hörtill, utan att ge insikt i den matematiken som är korrekt. Vi hoppas att det kommer göra att du förstår matten när den presenteras i sin helhet under senare kurser på i-programmet."
      ]
    }
  ]
}
