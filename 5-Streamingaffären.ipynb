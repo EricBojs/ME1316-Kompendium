{
  "nbformat": 4,
  "nbformat_minor": 0,
  "metadata": {
    "colab": {
      "name": "5. Streamingaffären.ipynb",
      "provenance": [],
      "collapsed_sections": [],
      "toc_visible": true,
      "include_colab_link": true
    },
    "kernelspec": {
      "name": "python3",
      "display_name": "Python 3"
    }
  },
  "cells": [
    {
      "cell_type": "markdown",
      "metadata": {
        "id": "view-in-github",
        "colab_type": "text"
      },
      "source": [
        "<a href=\"https://colab.research.google.com/github/EricBojs/ME1316-Kompendium/blob/master/5-Streamingaff%C3%A4ren.ipynb\" target=\"_parent\"><img src=\"https://colab.research.google.com/assets/colab-badge.svg\" alt=\"Open In Colab\"/></a>"
      ]
    },
    {
      "cell_type": "markdown",
      "metadata": {
        "id": "xQk0M1X3Ggdd",
        "colab_type": "text"
      },
      "source": [
        "# 5 Valutaoptioner med Streamingaffären"
      ]
    },
    {
      "cell_type": "code",
      "metadata": {
        "id": "1oNAxj6iw_PY",
        "colab_type": "code",
        "colab": {}
      },
      "source": [
        "# Installera Pandas som ger python möjlighet att läsa filer: .csv & .xlsx\n",
        "!pip -q install pandas\n",
        "# Installera yFinance som kopplar till kursdata från Yahoo Finance\n",
        "!pip -q install yfinance\n",
        "# Installera Matplotlib som låter oss rita diagram\n",
        "!pip -q install matplotlib\n",
        "# Bibliotek för att räkna med vektorer och liknande i python\n",
        "!pip -q install numpy"
      ],
      "execution_count": null,
      "outputs": []
    },
    {
      "cell_type": "code",
      "metadata": {
        "id": "jRo7gJ9Rw-Sc",
        "colab_type": "code",
        "colab": {}
      },
      "source": [
        "# Importera Matplotlib som låter oss rita grafer!\n",
        "import matplotlib.pyplot as plt # För att rita grafer\n",
        "import yfinance as yf           # För Yahoo Finance\n",
        "import numpy as np              # För matematik-funktioner\n",
        "import pandas as pd             # För att hantera dataframes (excel-blad)\n",
        "# Redigerar standardinställningar för matplotlib\n",
        "%matplotlib inline\n",
        "import matplotlib as mpl\n",
        "mpl.rcParams['figure.dpi']= 100\n",
        "plt.style.use('bmh') "
      ],
      "execution_count": null,
      "outputs": []
    },
    {
      "cell_type": "markdown",
      "metadata": {
        "id": "WlgqEi1_NbJ8",
        "colab_type": "text"
      },
      "source": [
        "Efter ditt lyckade projekt med Robyn Green på Streamingaffären har ledningen förflyttad dig till en ny roll på *internationella scoutavdelningen*. Ett nystartat utskott ska hitta stora, *lite mer vågade*, filmer och tv-serier som ska kunna visas för hela den europeiska marknaden. \n",
        "\n",
        "Som väl upplyst om kundernas smak har du fått ansvaret och sökt med ljus och lykta efter nästa stora inköp. Till slut har ett litet mexikanskt produktionsbolag väckt ditt intresse med sin kommande tv-serie *Knarkos Suecia*. Serien stämmer, enligt din dataanalys, in på alla preferenser som era utländska kunder besitter: spänning, mord och drama. \n",
        "\n",
        "Du bestämmer genast med med att skicka iväg en förfrågan om ett licensköp. Svaret anländer den varma första juli-morgonen 2020. Kostnaden för licensen är på 2.5 miljoner peso för samtliga 10 avsnitt i första säsongen för fem år framåt med sändningsrättighet i *hela* Europa. Vilket kap! Men ruskigt nära det pris ledningsgruppen har satt sin inköpsbudget för det kommande året. \n",
        "\n",
        "Du ryser. Kontraktet måste vara klart så fort som möjligt för att hindra era konkurrenter till att noppa åt sig serien. Något avslappnade är faktumet att betalningen inte behöver ske förrän nästa sommar. *Men vänta nu,* 2,5 miljoner pesos, vad kommer det kosta oss om 12 månader?"
      ]
    },
    {
      "cell_type": "markdown",
      "metadata": {
        "id": "L5W3noNoNfSH",
        "colab_type": "text"
      },
      "source": [
        "Licensköpet är otroligt viktigt för den övergripande strategin: Att fånga och behålla en stor kundkrets. Men är å andra sidan en potentiell stötesten för en redan ansträngd ekonomisk situation på företaget. Du har fått klara instruktioner om en inköpsbudget på 1 050 000 kr för hela det kommande räkneskapsåret, allt som allt. En eventuellt överskridande summa måste finansieras med dyra lån. Samtidigt är varenda sparad krona en krona tillbaka företaget som kan hålla er över ytan lite längre. \n",
        "\n",
        "Du lägger upp de två alternativet du har på bordet:\n",
        "\n",
        "1. Köp 2,5 miljoner pesos idag. *Risklöst, men dyrt då det låser budgeten tidigt på året.*\n",
        "\n",
        "2. Vänta 12 månader och hoppas på att kronan blir mer värd mot peson. *Riskfullt men förhoppningsvis billigt.*\n",
        "\n",
        "Du inser nu att du *ännu en gång* behöver göra en kvantitativanalys som ska ligga till grund för beslutfattande. Det som behövs göra är att få till en prognos kring volatiliteten, och således risken, mellan svenska kronan `SEK`, och mexikanska pesos `MXN`."
      ]
    },
    {
      "cell_type": "markdown",
      "metadata": {
        "id": "z74BwFA8cykf",
        "colab_type": "text"
      },
      "source": [
        "Försa steget är att hämta hem historisk data om valutakursen.\n",
        "\n",
        "Yahoo Finance saknar data från svenska kronan `SEK` till mexikanska peson `MXN`, så vi blir tvungna att gå från amerikanska dollarn `USD` i ett mellansteg."
      ]
    },
    {
      "cell_type": "code",
      "metadata": {
        "id": "6zAfemZxxDkM",
        "colab_type": "code",
        "colab": {
          "base_uri": "https://localhost:8080/",
          "height": 176
        },
        "outputId": "b42dc10d-cab9-41fe-d61b-dc58810ef57a"
      },
      "source": [
        "# Ladda hem historisk data från Yahoo Finance\n",
        "USDSEK = yf.download('SEK=X','2017-07-01','2020-07-01')\n",
        "USDMXN = yf.download('MXN=X','2017-07-01','2020-07-01')\n",
        "\n",
        "MXNSEK = pd.DataFrame() # MXN/SEK\n",
        "MXNSEK['Close'] = USDSEK['Close']/USDMXN['Close']\n",
        "print(MXNSEK.head())"
      ],
      "execution_count": null,
      "outputs": [
        {
          "output_type": "stream",
          "text": [
            "[*********************100%***********************]  1 of 1 completed\n",
            "[*********************100%***********************]  1 of 1 completed\n",
            "               Close\n",
            "Date                \n",
            "2017-07-03  0.463327\n",
            "2017-07-04  0.465795\n",
            "2017-07-05  0.464776\n",
            "2017-07-06  0.464735\n",
            "2017-07-07  0.466889\n"
          ],
          "name": "stdout"
        }
      ]
    },
    {
      "cell_type": "code",
      "metadata": {
        "id": "CJJwFHZldSMA",
        "colab_type": "code",
        "colab": {
          "base_uri": "https://localhost:8080/",
          "height": 544
        },
        "outputId": "9a492c58-57b0-4735-eafa-9583cde85e34"
      },
      "source": [
        "print(MXNSEK.describe()) # En bild av datan du hämtat hem\n",
        "plt.plot(MXNSEK['Close'])\n",
        "plt.xticks(rotation=30)\n",
        "plt.show()"
      ],
      "execution_count": null,
      "outputs": [
        {
          "output_type": "stream",
          "text": [
            "            Close\n",
            "count  780.000000\n",
            "mean     0.464180\n",
            "std      0.029461\n",
            "min      0.399024\n",
            "25%      0.442014\n",
            "50%      0.465087\n",
            "75%      0.489942\n",
            "max      0.526995\n"
          ],
          "name": "stdout"
        },
        {
          "output_type": "display_data",
          "data": {
            "image/png": "[encoded data removed]",
            "text/plain": [
              "<Figure size 600x400 with 1 Axes>"
            ]
          },
          "metadata": {
            "tags": [],
            "needs_background": "light"
          }
        }
      ]
    },
    {
      "cell_type": "markdown",
      "metadata": {
        "id": "JalwNZLJdnJS",
        "colab_type": "text"
      },
      "source": [
        "3 år är en väldigt lång mycket data. Så vi kan plocka ut ett stickprov!"
      ]
    },
    {
      "cell_type": "code",
      "metadata": {
        "id": "v7BqqDAFdbke",
        "colab_type": "code",
        "colab": {}
      },
      "source": [
        "stickprov = MXNSEK['2019-01-01':'2020-07-01'] # kan behöva ändras"
      ],
      "execution_count": null,
      "outputs": []
    },
    {
      "cell_type": "markdown",
      "metadata": {
        "id": "Qhw5RDTydk83",
        "colab_type": "text"
      },
      "source": [
        "För att hitta rätt i denna djungel behövs en kvantitativ analys kring volatiliteten. Hur du bestämer den är upp till dig\n",
        "\n",
        "*   Ska en statisk eller adaptiv modell användas i detta läge? \n",
        "*   Vilka antaganden bygger jag min prognos kring? kan jag testa dessa antagande?\n",
        "*   Hur ser min data ut? Vilken fördelning ser det ut att vara? \n",
        "*   Finns det ytterligare värde med att komplettera med en kausal prognos? "
      ]
    },
    {
      "cell_type": "markdown",
      "metadata": {
        "id": "UG3YZZpUQT8W",
        "colab_type": "text"
      },
      "source": [
        "Estimera $\\sigma$ utifrån valfri modell."
      ]
    },
    {
      "cell_type": "code",
      "metadata": {
        "id": "jnUNrAwiORKt",
        "colab_type": "code",
        "colab": {}
      },
      "source": [
        "sigma = modell(stickprov, parametrar)"
      ],
      "execution_count": null,
      "outputs": []
    },
    {
      "cell_type": "markdown",
      "metadata": {
        "id": "k3l1isebQipQ",
        "colab_type": "text"
      },
      "source": [
        "Om växelkursen om ett år $S_{T}$ följer:\n",
        "\n",
        "$$S_{T} \\sim N(S_0, \\sigma \\sqrt{T_1})$$\n",
        "\n",
        "Vad är risken att du kommer överskrida budgeten?\n",
        "\n",
        "$$\\text{Risk} = P[S_{T} \\geq S_{krit}]$$\n",
        "\n",
        "Där $S_{krit}$ är den kritiska växelkurs då budgeten spricker!"
      ]
    },
    {
      "cell_type": "markdown",
      "metadata": {
        "id": "jRfZUBOGhxAh",
        "colab_type": "text"
      },
      "source": [
        "Vilken tankeställare, tänker du samtidigt som du rör dig mot dagens tredje kopp kaffe. Väl vid kaffemaskinen står finansnissen Hans, och inte kan du inte låta att bikta dina bekymmer.\n",
        "\n",
        "– Men! Det finns ju ett tredje alternativ, skriker Hans ut:\n",
        "\n",
        "3. Köp en valutaoption som skyddar mot dyr peso, men samtidigt behåller vinsten om billig.\n",
        "\n",
        "– Jag ringer banken genast och kollar vad det kan kosta, fortsätter han samtidigt som han hasar sig iväg.\n",
        "\n",
        "En halvtimma senare glider han in på ditt kontor med ett klart bekymmersamt ansiktsuttryck.\n",
        "\n",
        "– Femtiotusen kronor för en säkran på $2,25$ `SEK/MXN` för 2,5 miljoner pesos, dvs ca 5 öre per option. kastar han ur sig. Över budget, men det kanske är värt ändå?"
      ]
    },
    {
      "cell_type": "markdown",
      "metadata": {
        "id": "g2jWRuXEZhYo",
        "colab_type": "text"
      },
      "source": [
        "Din uppgift är att presentera en optimal handlingsväg för ledningsgruppen. Vilken av de tre alternativen bör man välja? Finns det en annan, bättre, väg att gå?"
      ]
    },
    {
      "cell_type": "markdown",
      "metadata": {
        "id": "sLjy2TeRwIB2",
        "colab_type": "text"
      },
      "source": [
        "**Till hjälp:**\n",
        "\n",
        "`1 juli 2020` var reporäntan för `MXN`:$r_f = 5\\%$; och för `SEK`: $r_d = 0\\%$, $T=$ ett år.\n",
        "\n",
        "Måste du skydda hela beloppet? Vilken volatilitet räknar banken med? Kan du föreslå ett annat $K$ som är mer fördelaktig för din situation, men som banken fortfarande borde gå med på? Finns det alternativa optionsstrategier som kan vara fördelaktiga?\n",
        "\n"
      ]
    }
  ]
}